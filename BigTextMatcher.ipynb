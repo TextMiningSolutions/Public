{
  "nbformat": 4,
  "nbformat_minor": 0,
  "metadata": {
    "colab": {
      "provenance": [],
      "collapsed_sections": [],
      "authorship_tag": "ABX9TyNLn6ezAWFHPa/T2UcIfABp",
      "include_colab_link": true
    },
    "kernelspec": {
      "name": "python3",
      "display_name": "Python 3"
    },
    "language_info": {
      "name": "python"
    }
  },
  "cells": [
    {
      "cell_type": "markdown",
      "metadata": {
        "id": "view-in-github",
        "colab_type": "text"
      },
      "source": [
        "<a href=\"https://colab.research.google.com/github/TextMiningSolutions/Public/blob/master/BigTextMatcher.ipynb\" target=\"_parent\"><img src=\"https://colab.research.google.com/assets/colab-badge.svg\" alt=\"Open In Colab\"/></a>"
      ]
    },
    {
      "cell_type": "markdown",
      "source": [
        "BigTextMatcher"
      ],
      "metadata": {
        "id": "j-Zn930uuMyF"
      }
    },
    {
      "cell_type": "code",
      "source": [
        "# Install PySpark and Spark NLP\n",
        "! pip install -q pyspark==3.1.2 spark-nlp\n",
        "\n",
        "# Install Spark NLP Display lib\n",
        "! pip install --upgrade -q spark-nlp-display"
      ],
      "metadata": {
        "colab": {
          "base_uri": "https://localhost:8080/"
        },
        "id": "FIo7Mtt7ujq3",
        "outputId": "d8f4934a-2619-493e-d35e-1233ff6eacb4"
      },
      "execution_count": null,
      "outputs": [
        {
          "output_type": "stream",
          "name": "stdout",
          "text": [
            "\u001b[K     |████████████████████████████████| 212.4 MB 69 kB/s \n",
            "\u001b[K     |████████████████████████████████| 641 kB 52.4 MB/s \n",
            "\u001b[K     |████████████████████████████████| 198 kB 69.6 MB/s \n",
            "\u001b[?25h  Building wheel for pyspark (setup.py) ... \u001b[?25l\u001b[?25hdone\n",
            "\u001b[K     |████████████████████████████████| 95 kB 2.6 MB/s \n",
            "\u001b[K     |████████████████████████████████| 66 kB 5.3 MB/s \n",
            "\u001b[K     |████████████████████████████████| 1.6 MB 51.0 MB/s \n",
            "\u001b[?25h"
          ]
        }
      ]
    },
    {
      "cell_type": "code",
      "source": [
        "import sparknlp\n",
        "from sparknlp.base import *\n",
        "from sparknlp.annotator import *\n",
        "from pyspark.ml import Pipeline\n",
        "\n",
        "spark = sparknlp.start()"
      ],
      "metadata": {
        "id": "9YrBQvZburqN"
      },
      "execution_count": null,
      "outputs": []
    },
    {
      "cell_type": "code",
      "source": [
        "documentAssembler = DocumentAssembler() \\\n",
        "    .setInputCol(\"text\") \\\n",
        "    .setOutputCol(\"document\")\n",
        "\n",
        "tokenizer = Tokenizer() \\\n",
        "    .setInputCols(\"document\") \\\n",
        "    .setOutputCol(\"token\")\n",
        "\n",
        "data = spark.createDataFrame([[\"Airbus is betting autonomous and AI-driven commercial flight functions can bridge the 'pilot Shortage' gap. #autonomousflight #AI #airbus #pilotshortage.\"\n",
        "\"@EviationAero Alice out for some testing in #MosesLakeWA earlier today!\"\n",
        "\"American Airlines announced its investment in ZeroAvia, a leader in hydrogen-electric, emission-free aviation\"]]).toDF(\"text\")\n",
        "entityExtractor = BigTextMatcher() \\\n",
        "    .setInputCols(\"document\", \"token\") \\\n",
        "    .setStoragePath(\"https://raw.githubusercontent.com/TextMiningSolutions/Public/master/manufacturer.lst\", ReadAs.TEXT) \\\n",
        "    .setOutputCol(\"entity\") \\\n",
        "    .setCaseSensitive(False)"
      ],
      "metadata": {
        "id": "SKnBtikLviy6"
      },
      "execution_count": null,
      "outputs": []
    },
    {
      "cell_type": "code",
      "source": [
        "pipeline = Pipeline().setStages([documentAssembler, tokenizer, entityExtractor])\n",
        "results = pipeline.fit(data).transform(data)\n",
        "results.selectExpr(\"explode(entity)\").show(truncate=False)"
      ],
      "metadata": {
        "colab": {
          "base_uri": "https://localhost:8080/"
        },
        "id": "fCS5420uvBXW",
        "outputId": "13441641-abe7-4489-deb0-8da027080c3d"
      },
      "execution_count": null,
      "outputs": [
        {
          "output_type": "stream",
          "name": "stdout",
          "text": [
            "+------------------------------------------------------------+\n",
            "|col                                                         |\n",
            "+------------------------------------------------------------+\n",
            "|{chunk, 0, 5, Airbus, {sentence -> 0, chunk -> 0}, []}      |\n",
            "|{chunk, 270, 277, ZeroAvia, {sentence -> 0, chunk -> 1}, []}|\n",
            "+------------------------------------------------------------+\n",
            "\n"
          ]
        }
      ]
    }
  ]
}
