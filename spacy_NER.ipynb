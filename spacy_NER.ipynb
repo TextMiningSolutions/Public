{
  "nbformat": 4,
  "nbformat_minor": 0,
  "metadata": {
    "colab": {
      "provenance": [],
      "collapsed_sections": [],
      "authorship_tag": "ABX9TyO+7U5e7M/OWLl0gS1kiNkk",
      "include_colab_link": true
    },
    "kernelspec": {
      "name": "python3",
      "display_name": "Python 3"
    },
    "language_info": {
      "name": "python"
    }
  },
  "cells": [
    {
      "cell_type": "markdown",
      "metadata": {
        "id": "view-in-github",
        "colab_type": "text"
      },
      "source": [
        "<a href=\"https://colab.research.google.com/github/TextMiningSolutions/Public/blob/master/spacy_NER.ipynb\" target=\"_parent\"><img src=\"https://colab.research.google.com/assets/colab-badge.svg\" alt=\"Open In Colab\"/></a>"
      ]
    },
    {
      "cell_type": "code",
      "source": [
        "#download and install core application\n",
        "import spacy.cli\n",
        "spacy.cli.download(\"en_core_web_lg\")\n",
        "import en_core_web_lg\n",
        "nlp = en_core_web_lg.load()"
      ],
      "metadata": {
        "colab": {
          "base_uri": "https://localhost:8080/"
        },
        "id": "EliBZn6MRBN6",
        "outputId": "26b9c794-753f-4606-c5ee-6408e768d6ff"
      },
      "execution_count": null,
      "outputs": [
        {
          "output_type": "stream",
          "name": "stdout",
          "text": [
            "\u001b[38;5;2m✔ Download and installation successful\u001b[0m\n",
            "You can now load the package via spacy.load('en_core_web_lg')\n"
          ]
        }
      ]
    },
    {
      "cell_type": "code",
      "source": [
        "\n",
        "doc = nlp(\"THIS AMENDED AND RESTATED MANAGED SERVICES AGREEMENT (this 'Agreement') is entered into effective as of June 1, 2018 ('Effective Date') by \"\\\n",
        "          \"and between, U.S. Bank Natioanl Association, doing business as \"\\\n",
        "          \"Elan Financial Services, with its principal place of business at 800 Nicollet Mall \"\\\n",
        "          \"Minneapolism Minnesota 55482 ('Elan'), and TFC National Bank ('Company'), \"\\\n",
        "          \"with its principal place of business at 200 Lake Street, Wayzata Minnesota 55391. \"\\\n",
        "          \"Elan and Company are referred to individually as 'Party' and collectively as \"\\\n",
        "          \"'Parties' throughout the Agreement\")"
      ],
      "metadata": {
        "id": "PF6Rn2AxR2MW"
      },
      "execution_count": null,
      "outputs": []
    },
    {
      "cell_type": "code",
      "source": [
        "for ent in doc.ents:\n",
        "  print(ent.text, ent.start_char, ent.end_char, ent.label_)"
      ],
      "metadata": {
        "colab": {
          "base_uri": "https://localhost:8080/"
        },
        "id": "2TDNEzlyS5oj",
        "outputId": "4614932b-5899-42e0-ae3b-2ca1cae06b0e"
      },
      "execution_count": null,
      "outputs": [
        {
          "output_type": "stream",
          "name": "stdout",
          "text": [
            "June 1, 2018 104 116 DATE\n",
            "U.S. Bank Natioanl Association 152 182 ORG\n",
            "Elan Financial Services 202 225 ORG\n",
            "800 Nicollet Mall Minneapolism 267 297 FAC\n",
            "Minnesota 298 307 GPE\n",
            "55482 308 313 DATE\n",
            "Elan 316 320 ORG\n",
            "TFC National Bank 328 345 ORG\n",
            "200 Lake Street 399 414 FAC\n",
            "Wayzata 416 423 ORG\n",
            "Minnesota 424 433 GPE\n",
            "Elan 441 445 ORG\n",
            "Party 491 496 ORG\n"
          ]
        }
      ]
    }
  ]
}